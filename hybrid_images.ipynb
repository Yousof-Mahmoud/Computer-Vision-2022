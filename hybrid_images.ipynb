{
  "nbformat": 4,
  "nbformat_minor": 0,
  "metadata": {
    "colab": {
      "name": "hybrid_images.ipynb",
      "provenance": [],
      "collapsed_sections": [],
      "authorship_tag": "ABX9TyP6n/cm3UprP61j/zZWE2v7",
      "include_colab_link": true
    },
    "kernelspec": {
      "name": "python3",
      "display_name": "Python 3"
    },
    "language_info": {
      "name": "python"
    }
  },
  "cells": [
    {
      "cell_type": "markdown",
      "metadata": {
        "id": "view-in-github",
        "colab_type": "text"
      },
      "source": [
        "<a href=\"https://colab.research.google.com/github/Yousof-Mahmoud/Computer-Vision-2022/blob/main/hybrid_images.ipynb\" target=\"_parent\"><img src=\"https://colab.research.google.com/assets/colab-badge.svg\" alt=\"Open In Colab\"/></a>"
      ]
    },
    {
      "cell_type": "code",
      "execution_count": 1,
      "metadata": {
        "id": "C9CbZN5uA37Y"
      },
      "outputs": [],
      "source": [
        "import numpy as np\n",
        "import cv2\n",
        "#import scipy.stats as st\n",
        "#from scipy.signal import convolve2d"
      ]
    },
    {
      "cell_type": "code",
      "source": [
        "# freqyency filters\n",
        "def square_pad(source: np.ndarray, size_x: int, size_y: int, pad_value: int) -> np.ndarray:\n",
        "   \n",
        "    src = np.copy(source)\n",
        "    x, y = src.shape\n",
        "\n",
        "    out_x = (size_x - x) // 2\n",
        "    out_xx = size_x - out_x - x\n",
        "\n",
        "    out_y = (size_y - y) // 2\n",
        "    out_yy = size_y - out_y - y\n",
        "\n",
        "    return np.pad(src, ((out_x, out_xx), (out_y, out_yy)), constant_values=pad_value)"
      ],
      "metadata": {
        "id": "B2-kEPmNBNFY"
      },
      "execution_count": 3,
      "outputs": []
    },
    {
      "cell_type": "code",
      "source": [
        "def frequency_filter(source: np.ndarray, kernel: np.ndarray) -> np.ndarray:\n",
        "   \n",
        "    src = np.copy(source)\n",
        "\n",
        "    # Covert Image to gray scale\n",
        "    src = cv2.cvtColor(src, cv2.COLOR_BGR2GRAY)\n",
        "\n",
        "    # Convert Image to Frequency Domain\n",
        "    # and decentralize the output\n",
        "    ft_src = np.fft.fft2(src)\n",
        "    ft_src_shifted = np.fft.fftshift(ft_src)\n",
        "\n",
        "    # apply Kernel\n",
        "    out = np.fft.ifftshift(ft_src_shifted * kernel)\n",
        "    out = np.fft.ifft2(out)\n",
        "\n",
        "    return np.abs(out)"
      ],
      "metadata": {
        "id": "MFUcmpknBDsO"
      },
      "execution_count": 2,
      "outputs": []
    },
    {
      "cell_type": "code",
      "source": [
        "def high_pass_filter(source: np.ndarray, size: int) -> np.ndarray:\n",
        "  \n",
        "    # Create a kernel with ones in the middle for high frequencies\n",
        "    kernel = square_pad(np.ones((size, size)), source.shape[0], source.shape[1], 0)\n",
        "\n",
        "    # Apply Kernel\n",
        "    out = frequency_filter(source, kernel)\n",
        "\n",
        "    return out"
      ],
      "metadata": {
        "id": "XJpK2-dLA-kW"
      },
      "execution_count": 4,
      "outputs": []
    },
    {
      "cell_type": "code",
      "source": [
        "def low_pass_filter(source: np.ndarray, size: int) -> np.ndarray:\n",
        "    \n",
        "    # Create Kernel with ones on the edges for low frequencies\n",
        "    kernel = 1 - square_pad(np.ones((size, size)), source.shape[0], source.shape[1], 0)\n",
        "\n",
        "    # Apply Kernel\n",
        "    out = frequency_filter(source, kernel)\n",
        "\n",
        "    return out"
      ],
      "metadata": {
        "id": "YblZ2qaxBIMs"
      },
      "execution_count": 5,
      "outputs": []
    },
    {
      "cell_type": "code",
      "source": [
        "#hybrid images \n",
        "def hybrid_image(src_img1 ,src_img2):\n",
        "  min_shape =(min(src_img1.shape[0], src_img2.shape[0]),\n",
        "              min(src_img1.shape[1], src_img2.shape[1]))\n",
        "  src_img1_resized = cv2.resize(src_img1, min_shape, interpolation=cv2.INTER_AREA)\n",
        "  src_img2_resized = cv2.resize(src_img2, min_shape, interpolation=cv2.INTER_AREA)\n",
        "\n",
        "   # Apply filters\n",
        "  image1_dft = high_pass_filter(source=src_img1_resized, size=20)\n",
        "  image2_dft = low_pass_filter(source=src_img2_resized, size=15)\n",
        "  hybrid_image = image1_dft + image2_dft\n",
        "  cv2.imwrite('hybrid_image.png', hybrid_image)"
      ],
      "metadata": {
        "id": "OHplvpx6BV_l"
      },
      "execution_count": 8,
      "outputs": []
    },
    {
      "cell_type": "code",
      "source": [
        "src_img1= cv2.imread('/content/h1.png')\n",
        "src_img2= cv2.imread('/content/h2.png')\n",
        "hybrid=hybrid_image(src_img1 ,src_img2)"
      ],
      "metadata": {
        "id": "aO748W06BbQN"
      },
      "execution_count": 9,
      "outputs": []
    }
  ]
}